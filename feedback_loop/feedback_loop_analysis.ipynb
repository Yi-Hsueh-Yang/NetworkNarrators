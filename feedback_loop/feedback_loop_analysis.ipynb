{
  "nbformat": 4,
  "nbformat_minor": 0,
  "metadata": {
    "colab": {
      "provenance": []
    },
    "kernelspec": {
      "name": "python3",
      "display_name": "Python 3"
    },
    "language_info": {
      "name": "python"
    }
  },
  "cells": [
    {
      "cell_type": "markdown",
      "source": [
        "### Before removing movies that were getting recommended to new users"
      ],
      "metadata": {
        "id": "7yaf-FW6XzhC"
      }
    },
    {
      "cell_type": "code",
      "source": [
        "import pandas as pd\n",
        "\n",
        "# Load the data from the provided CSV files\n",
        "kafka_data = pd.read_csv('kafka_data.csv')\n",
        "record_data = pd.read_csv('record.csv',usecols=range(21))\n",
        "\n",
        "# Extract movie titles from Kafka data by parsing the request URLs\n",
        "kafka_data['movie_title'] = kafka_data['request'].str.extract(r'/m/(.+?)/')\n",
        "kafka_movie_counts = kafka_data['movie_title'].value_counts()\n",
        "\n",
        "record_flat = pd.DataFrame(record_data.stack()).reset_index()\n",
        "record_flat.columns = ['user_index', 'movie_index', 'movie_title']\n",
        "record_recommendation_counts = record_flat['movie_title'].value_counts()\n",
        "\n",
        "# Analyze the distribution of recommendations\n",
        "top_20_recommended = record_recommendation_counts.head(20)\n",
        "total_recommendations = record_recommendation_counts.sum()\n",
        "top_20_percentage = top_20_recommended.sum() / total_recommendations * 100\n",
        "\n",
        "# Output the analysis\n",
        "print(\"Kafka Data - Unique Movies Statistical Summary:\")\n",
        "print(kafka_movie_counts.describe())\n",
        "\n",
        "print(\"\\nTop 20 Recommended Movies in Record Data:\")\n",
        "print(top_20_recommended)\n",
        "\n",
        "print(f\"\\nTop 20 movies as a percentage of all recommendations: {top_20_percentage:.2f}%\")\n"
      ],
      "metadata": {
        "colab": {
          "base_uri": "https://localhost:8080/"
        },
        "id": "AeWv0gNMYkpC",
        "outputId": "df1b7166-eb72-4867-f9f8-5098fc34d9f7"
      },
      "execution_count": null,
      "outputs": [
        {
          "output_type": "stream",
          "name": "stdout",
          "text": [
            "Kafka Data - Unique Movies Statistical Summary:\n",
            "count    9084.000000\n",
            "mean       36.591810\n",
            "std       294.147185\n",
            "min         3.000000\n",
            "25%         6.000000\n",
            "50%         9.000000\n",
            "75%        15.000000\n",
            "max      7524.000000\n",
            "Name: count, dtype: float64\n",
            "\n",
            "Top 20 Recommended Movies in Record Data:\n",
            "movie_title\n",
            "the+shawshank+redemption+1994                       38011\n",
            "senna+2010                                          37881\n",
            "spies+1928                                          37851\n",
            "spontaneous+combustion+1990                         37844\n",
            "stanley+kubrick+a+life+in+pictures+2001             37839\n",
            "matthews+days+1968                                  37766\n",
            "harry+potter+and+the+deathly+hallows+part+1+2010    37729\n",
            "raiders+of+the+lost+ark+1981                        37697\n",
            "smile+1975                                          37696\n",
            "inception+2010                                      37692\n",
            "spin+2007                                           37687\n",
            "harry+potter+and+the+deathly+hallows+part+2+2011    37684\n",
            "divorce+american+style+1967                         37677\n",
            "the+dark+knight+2008                                37671\n",
            "star+wars+episode+i+-+the+phantom+menace+1999       37661\n",
            "rain+man+1988                                       37657\n",
            "standing+in+the+shadows+of+motown+2002              37654\n",
            "star+wars+1977                                      37648\n",
            "mansfield+park+1999                                 37641\n",
            "crumb+1994                                          37635\n",
            "Name: count, dtype: int64\n",
            "\n",
            "Top 20 movies as a percentage of all recommendations: 27.33%\n"
          ]
        }
      ]
    },
    {
      "cell_type": "markdown",
      "source": [
        "### After removing movies that were being served to new users"
      ],
      "metadata": {
        "id": "Q6y73XwqYA5R"
      }
    },
    {
      "cell_type": "code",
      "source": [
        "import pandas as pd\n",
        "\n",
        "column_names = ['user_id'] + [f'movie_{i}' for i in range(1, 21)]\n",
        "record_data = pd.read_csv('record.csv', header=None, names=column_names, usecols=range(21))\n",
        "\n",
        "# Flatten the record data to make it easier to work with\n",
        "record_flat = pd.melt(record_data, id_vars='user_id', value_vars=[f'movie_{i}' for i in range(1, 21)])\n",
        "record_flat.columns = ['user_id', 'movie_index', 'movie_title']\n",
        "\n",
        "# Exclude pseudo-randomly served movies from the record data\n",
        "pseudo_movie_ids = ['10+things+i+hate+about+you+1999', 'spriggan+1998', 'stargate+sg-1+children+of+the+gods+-+final+cut+2009', 'stargate+continuum+2008', 'star+wars+episode+iii+-+revenge+of+the+sith+2005', 'star+wars+episode+i+-+the+phantom+menace+1999', 'star+wars+1977', 'stanley+kubrick+a+life+in+pictures+2001', 'standing+up+2013', 'standing+in+the+shadows+of+motown+2002', 'stand+up+and+fight+1939', 'stalag+17+1953', 'spring+forward+1999', 'spread+2009', 'senna+2010', 'spontaneous+combustion+1990','spinning+plates+2013', 'spin+2007', 'spies+1928','the+matrix+1999', 'life+as+a+house+2001',\"the+shawshank+redemption+1994\",\"the+dark+knight+2008\",\"inception+2010\",\"raiders+of+the+lost+ark+1981\",\"my+neighbor+totoro+1988\",\"forrest+gump+1994\",\"harry+potter+and+the+deathly+hallows+part+2+2011\",\"monty+python+and+the+holy+grail+1975\",\"the+lord+of+the+rings+the+return+of+the+king+2003\",\"spirited+away+2001\",\"the+godfather+1972\",\"the+lord+of+the+rings+the+fellowship+of+the+ring+2001\",\"fight+club+1999\",\"nausica+of+the+valley+of+the+wind+1984\",\"the+green+mile+1999\",\"toy+story+1995\",\"goodfellas+1990\",\"the+dark+knight+rises+2012\",\"seven+samurai+1954\", 'the+big+clock+1948', 'matthews+days+1968', 'the+day+of+the+crows+2012', 'mansfield+park+1999', 'kes+1969', 'beauty+and+the+beast+1991', 'red+2008', 'the+dirty+dozen+1967', 'smile+1975', 'interstellar+2014', 'never+say+never+again+1983', 'good+night_+and+good+luck.+2005', 'steal+this+film+2006', 'scarface+1983', 'harry+potter+and+the+deathly+hallows+part+1+2010', 'the+little+mermaid+1989', 'you+and+i+2006', 'the+chronicles+of+narnia+prince+caspian+2008','crumb+1994', 'divorce+american+style+1967', 'cool+hand+luke+1967', 'chappie+2015', 'walle+2008', 'where+the+red+fern+grows+1974', '24+exposures+2013', 'rain+man+1988', 'hugo+2011', 'lost+in+la+mancha+2002', 'sergeant+york+1941', 'westward+the+women+1951']\n",
        "record_flat = record_flat[~record_flat['movie_title'].isin(pseudo_movie_ids)]\n",
        "\n",
        "# Analyze the distribution of recommendations\n",
        "record_recommendation_counts = record_flat['movie_title'].value_counts()\n",
        "top_20_recommended = record_recommendation_counts.head(20)\n",
        "total_recommendations = record_recommendation_counts.sum()\n",
        "top_20_percentage = top_20_recommended.sum() / total_recommendations * 100\n",
        "\n",
        "# Output the analysis\n",
        "print(\"Top 20 Recommended Movies in Record Data (Excluding Pseudo-Randomly Served Movies):\")\n",
        "print(top_20_recommended)\n",
        "\n",
        "print(f\"\\nTop 20 movies as a percentage of all recommendations (excluding pseudo-randomly served movies): {top_20_percentage:.2f}%\")\n"
      ],
      "metadata": {
        "colab": {
          "base_uri": "https://localhost:8080/"
        },
        "id": "A7BIFJzHS-i5",
        "outputId": "ec5c5a39-4e20-4e8c-e403-3dc8859602cb"
      },
      "execution_count": 12,
      "outputs": [
        {
          "output_type": "stream",
          "name": "stdout",
          "text": [
            "Top 20 Recommended Movies in Record Data (Excluding Pseudo-Randomly Served Movies):\n",
            "movie_title\n",
            "('the+shawshank+redemption+1994', 0.8128104)           2\n",
            "('my+best+friend+2006', 0.72639185)                    2\n",
            "('back+to+the+future+1985', 0.81434804)                2\n",
            "('the+secret+world+of+arrietty+2010', 0.7579194)       2\n",
            "('gattaca+1997', 0.8469027)                            2\n",
            "('brave+2012', 0.7451509)                              2\n",
            "('senna+2010', 0.89109594)                             2\n",
            "('steamboat+bill_+jr.+1928', 0.7421252)                2\n",
            "('himalaya+1999', 0.7409592)                           2\n",
            "('sparkle+2012', 0.75481737)                           2\n",
            "('the+matrix+1999', 0.7794365)                         2\n",
            "('sparkle+2012', 0.85248643)                           2\n",
            "('the+kingdom+2007', 0.7728366)                        2\n",
            "('the+shawshank+redemption+1994', 0.9016538)           2\n",
            "('brave+2012', 0.76727796)                             2\n",
            "('monsters_+inc.+2001', 0.84533775)                    2\n",
            "('the+shawshank+redemption+1994', 0.83040005)          2\n",
            "('monsters_+inc.+2001', 0.7468167)                     2\n",
            "('2001+a+space+odyssey+1968', 0.78901136)              2\n",
            "('monty+python+and+the+holy+grail+1975', 0.7358625)    2\n",
            "Name: count, dtype: int64\n",
            "\n",
            "Top 20 movies as a percentage of all recommendations (excluding pseudo-randomly served movies): 1.77%\n"
          ]
        }
      ]
    },
    {
      "cell_type": "markdown",
      "source": [
        "### Number of Unique Users"
      ],
      "metadata": {
        "id": "5QTl1_k6YSxY"
      }
    },
    {
      "cell_type": "code",
      "source": [
        "import pandas as pd\n",
        "\n",
        "# Load the data\n",
        "record_data = pd.read_csv('record.csv', usecols=range(21))\n",
        "\n",
        "# Calculate total number of rows\n",
        "total_rows = len(record_data)\n",
        "\n",
        "# The first column contains the user IDs, calculate unique customers\n",
        "unique_customers = record_data.iloc[:, 0].nunique()\n",
        "\n",
        "# Output the results\n",
        "print(f\"Total rows in record.csv: {total_rows}\")\n",
        "print(f\"Unique customers: {unique_customers}\")"
      ],
      "metadata": {
        "colab": {
          "base_uri": "https://localhost:8080/"
        },
        "id": "Bzsnn5TbOtpY",
        "outputId": "38f3b672-1541-456e-d621-d881c1dd5bb7"
      },
      "execution_count": null,
      "outputs": [
        {
          "output_type": "stream",
          "name": "stdout",
          "text": [
            "Total rows in record.csv: 131482\n",
            "Unique customers: 126024\n"
          ]
        }
      ]
    }
  ]
}